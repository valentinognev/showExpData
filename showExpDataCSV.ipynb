{
 "cells": [
  {
   "cell_type": "code",
   "execution_count": 23,
   "metadata": {},
   "outputs": [],
   "source": [
    "import pandas as pd\n",
    "import matplotlib.pyplot as plt\n",
    "# %matplotlib widget\n",
    "%matplotlib qt"
   ]
  },
  {
   "cell_type": "code",
   "execution_count": 24,
   "metadata": {},
   "outputs": [],
   "source": [
    "dirName = '/home/valentin/crazyflie/Recordings/testStep/'\n",
    "fileNameList = ['logOLD00', 'logOLD01', 'logOLD02', 'logOLD03', 'logOLD04', 'logOLD05', 'logOLD06.csv']\n",
    "\n",
    "data =  pd.read_csv(dirName + fileNameList[6])\n",
    "\n"
   ]
  },
  {
   "cell_type": "code",
   "execution_count": 26,
   "metadata": {},
   "outputs": [],
   "source": [
    "tim = data['tick']/1000\n",
    "# tim = tim - tim[0]\n",
    "# ind = np.where(tim > 150)\n",
    "# print(str(tim))\n",
    "plt.figure()\n",
    "# plt.subplot(2,1,1)\n",
    "# plt.plot(tim, data['dvio_data.velStdDevx'],linewidth=3)\n",
    "# plt.plot(tim, data['dvio_data.velStdDevy'],linewidth=3)\n",
    "# plt.plot(tim, data['dvio_data.velStdDevz'],linewidth=3)\n",
    "# plt.plot(tim, data['state_machine.ExtKalman'],linewidth=3)\n",
    "# plt.plot(tim, data['kalman.SensorConfig'],linewidth=3)\n",
    "# plt.plot(tim, data['kalman_states.useVel'],linewidth=3)\n",
    "\n",
    "# plt.plot(tim, data['stateEstimate.vx'],linewidth=3)\n",
    "# plt.plot(tim, data['kalman.statePX'],linewidth=3)\n",
    "# plt.plot(tim, data['range.valid'],linewidth=3)\n",
    "plt.plot(tim, data['range.zref'],linewidth=3)\n",
    "plt.plot(tim, data['range.ztrans'],linewidth=3)\n",
    "plt.plot(tim, data['range.zmeas'],linewidth=3)\n",
    "plt.plot(tim, data['range.vzTof'],linewidth=3)\n",
    "plt.plot(tim, data['range.vzKal'],linewidth=3)\n",
    "plt.plot(tim, data['stateEstimate.z'],linewidth=3)\n",
    "# plt.plot(tim, data['posCtl.targetZ']*100,linewidth=3)\n",
    "\n",
    "plt.legend(['zref','ztrans','zmeas','vzTof','vzKal','stateEstimate.z'])\n",
    "# plt.plot(tim, data['stateEstimate.z'],linewidth=3)\n",
    "# plt.plot(tim, data['dvio_data.stdFacZ'],linewidth=3)\n",
    "\n",
    "\n",
    "# plt.plot(tim[1:], np.abs(np.diff(data['kalman_pred.tof_innov'])>0))\n",
    "# plt.plot(tim[ind], data['kalman.stateY'][ind],linewidth=3)\n",
    "# plt.plot(tim[ind], data['kalman.stateY_f'][ind],linewidth=3) #stateEstimate.z\n",
    "# plt.plot(data['kalman.stateX'][ind], data['kalman.stateY'][ind],linewidth=3) #stateEstimate.z\n",
    "# plt.plot(data['kalman.stateX_f'][ind], data['kalman.stateY_f'][ind],linewidth=3) #stateEstimate.z\n",
    "plt.xlabel('Time [s]')\n",
    "plt.ylabel('Position [m]')\n",
    "plt.grid(True)\n",
    "\n",
    "# plt.subplot(2,1,2)\n",
    "# plt.plot(tim, data['motor.m1'],linewidth=3)\n",
    "# plt.xlabel('Time [s]')\n",
    "# plt.ylabel('Motor [PWM]')\n",
    "# plt.grid(True)\n",
    "plt.show()"
   ]
  },
  {
   "cell_type": "code",
   "execution_count": null,
   "metadata": {},
   "outputs": [],
   "source": []
  }
 ],
 "metadata": {
  "kernelspec": {
   "display_name": "base",
   "language": "python",
   "name": "python3"
  },
  "language_info": {
   "codemirror_mode": {
    "name": "ipython",
    "version": 3
   },
   "file_extension": ".py",
   "mimetype": "text/x-python",
   "name": "python",
   "nbconvert_exporter": "python",
   "pygments_lexer": "ipython3",
   "version": "3.10.13"
  },
  "orig_nbformat": 4,
  "vscode": {
   "interpreter": {
    "hash": "8a8ae345cda9680c5e42f4ee3805fcd09fcee8a9e6805c5decabcb001b740ee9"
   }
  }
 },
 "nbformat": 4,
 "nbformat_minor": 2
}
