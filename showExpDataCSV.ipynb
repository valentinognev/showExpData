{
 "cells": [
  {
   "cell_type": "code",
   "execution_count": 6,
   "metadata": {},
   "outputs": [],
   "source": [
    "import pandas as pd\n",
    "import matplotlib.pyplot as plt\n",
    "# %matplotlib widget\n",
    "%matplotlib qt"
   ]
  },
  {
   "cell_type": "code",
   "execution_count": 8,
   "metadata": {},
   "outputs": [],
   "source": [
    "dirName = '/home/valentin/crazyflie/Recordings/tube/'\n",
    "fileNameList = ['sd_33_cf2414.csv']\n",
    "\n",
    "data =  pd.read_csv(dirName + fileNameList[0])\n",
    "\n"
   ]
  },
  {
   "cell_type": "code",
   "execution_count": 10,
   "metadata": {},
   "outputs": [
    {
     "ename": "KeyError",
     "evalue": "'range.zref'",
     "output_type": "error",
     "traceback": [
      "\u001b[0;31m---------------------------------------------------------------------------\u001b[0m",
      "\u001b[0;31mKeyError\u001b[0m                                  Traceback (most recent call last)",
      "File \u001b[0;32m~/anaconda3/lib/python3.10/site-packages/pandas/core/indexes/base.py:3791\u001b[0m, in \u001b[0;36mIndex.get_loc\u001b[0;34m(self, key)\u001b[0m\n\u001b[1;32m   3790\u001b[0m \u001b[38;5;28;01mtry\u001b[39;00m:\n\u001b[0;32m-> 3791\u001b[0m     \u001b[38;5;28;01mreturn\u001b[39;00m \u001b[38;5;28;43mself\u001b[39;49m\u001b[38;5;241;43m.\u001b[39;49m\u001b[43m_engine\u001b[49m\u001b[38;5;241;43m.\u001b[39;49m\u001b[43mget_loc\u001b[49m\u001b[43m(\u001b[49m\u001b[43mcasted_key\u001b[49m\u001b[43m)\u001b[49m\n\u001b[1;32m   3792\u001b[0m \u001b[38;5;28;01mexcept\u001b[39;00m \u001b[38;5;167;01mKeyError\u001b[39;00m \u001b[38;5;28;01mas\u001b[39;00m err:\n",
      "File \u001b[0;32mindex.pyx:152\u001b[0m, in \u001b[0;36mpandas._libs.index.IndexEngine.get_loc\u001b[0;34m()\u001b[0m\n",
      "File \u001b[0;32mindex.pyx:181\u001b[0m, in \u001b[0;36mpandas._libs.index.IndexEngine.get_loc\u001b[0;34m()\u001b[0m\n",
      "File \u001b[0;32mpandas/_libs/hashtable_class_helper.pxi:7080\u001b[0m, in \u001b[0;36mpandas._libs.hashtable.PyObjectHashTable.get_item\u001b[0;34m()\u001b[0m\n",
      "File \u001b[0;32mpandas/_libs/hashtable_class_helper.pxi:7088\u001b[0m, in \u001b[0;36mpandas._libs.hashtable.PyObjectHashTable.get_item\u001b[0;34m()\u001b[0m\n",
      "\u001b[0;31mKeyError\u001b[0m: 'range.zref'",
      "\nThe above exception was the direct cause of the following exception:\n",
      "\u001b[0;31mKeyError\u001b[0m                                  Traceback (most recent call last)",
      "Cell \u001b[0;32mIn[10], line 17\u001b[0m\n\u001b[1;32m      5\u001b[0m plt\u001b[38;5;241m.\u001b[39mfigure()\n\u001b[1;32m      6\u001b[0m \u001b[38;5;66;03m# plt.subplot(2,1,1)\u001b[39;00m\n\u001b[1;32m      7\u001b[0m \u001b[38;5;66;03m# plt.plot(tim, data['dvio_data.velStdDevx'],linewidth=3)\u001b[39;00m\n\u001b[1;32m      8\u001b[0m \u001b[38;5;66;03m# plt.plot(tim, data['dvio_data.velStdDevy'],linewidth=3)\u001b[39;00m\n\u001b[0;32m   (...)\u001b[0m\n\u001b[1;32m     15\u001b[0m \u001b[38;5;66;03m# plt.plot(tim, data['kalman.statePX'],linewidth=3)\u001b[39;00m\n\u001b[1;32m     16\u001b[0m \u001b[38;5;66;03m# plt.plot(tim, data['range.valid'],linewidth=3)\u001b[39;00m\n\u001b[0;32m---> 17\u001b[0m plt\u001b[38;5;241m.\u001b[39mplot(tim, \u001b[43mdata\u001b[49m\u001b[43m[\u001b[49m\u001b[38;5;124;43m'\u001b[39;49m\u001b[38;5;124;43mrange.zref\u001b[39;49m\u001b[38;5;124;43m'\u001b[39;49m\u001b[43m]\u001b[49m,linewidth\u001b[38;5;241m=\u001b[39m\u001b[38;5;241m3\u001b[39m)\n\u001b[1;32m     18\u001b[0m \u001b[38;5;66;03m# plt.plot(tim, data['range.ztrans'],linewidth=3)\u001b[39;00m\n\u001b[1;32m     19\u001b[0m \u001b[38;5;66;03m# plt.plot(tim, data['range.zmeas'],linewidth=3)\u001b[39;00m\n\u001b[1;32m     20\u001b[0m \u001b[38;5;66;03m# plt.plot(tim, data['range.vzTof'],linewidth=3)\u001b[39;00m\n\u001b[1;32m     21\u001b[0m \u001b[38;5;66;03m# plt.plot(tim, data['range.vzKal'],linewidth=3)\u001b[39;00m\n\u001b[1;32m     22\u001b[0m \u001b[38;5;66;03m# plt.plot(tim, data['stateEstimate.z'],linewidth=3)\u001b[39;00m\n\u001b[1;32m     23\u001b[0m \u001b[38;5;66;03m# plt.plot(tim, data['posCtl.targetZ']*100,linewidth=3)\u001b[39;00m\n\u001b[1;32m     25\u001b[0m plt\u001b[38;5;241m.\u001b[39mlegend([\u001b[38;5;124m'\u001b[39m\u001b[38;5;124mzref\u001b[39m\u001b[38;5;124m'\u001b[39m,\u001b[38;5;124m'\u001b[39m\u001b[38;5;124mztrans\u001b[39m\u001b[38;5;124m'\u001b[39m,\u001b[38;5;124m'\u001b[39m\u001b[38;5;124mzmeas\u001b[39m\u001b[38;5;124m'\u001b[39m,\u001b[38;5;124m'\u001b[39m\u001b[38;5;124mvzTof\u001b[39m\u001b[38;5;124m'\u001b[39m,\u001b[38;5;124m'\u001b[39m\u001b[38;5;124mvzKal\u001b[39m\u001b[38;5;124m'\u001b[39m,\u001b[38;5;124m'\u001b[39m\u001b[38;5;124mstateEstimate.z\u001b[39m\u001b[38;5;124m'\u001b[39m])\n",
      "File \u001b[0;32m~/anaconda3/lib/python3.10/site-packages/pandas/core/frame.py:3893\u001b[0m, in \u001b[0;36mDataFrame.__getitem__\u001b[0;34m(self, key)\u001b[0m\n\u001b[1;32m   3891\u001b[0m \u001b[38;5;28;01mif\u001b[39;00m \u001b[38;5;28mself\u001b[39m\u001b[38;5;241m.\u001b[39mcolumns\u001b[38;5;241m.\u001b[39mnlevels \u001b[38;5;241m>\u001b[39m \u001b[38;5;241m1\u001b[39m:\n\u001b[1;32m   3892\u001b[0m     \u001b[38;5;28;01mreturn\u001b[39;00m \u001b[38;5;28mself\u001b[39m\u001b[38;5;241m.\u001b[39m_getitem_multilevel(key)\n\u001b[0;32m-> 3893\u001b[0m indexer \u001b[38;5;241m=\u001b[39m \u001b[38;5;28;43mself\u001b[39;49m\u001b[38;5;241;43m.\u001b[39;49m\u001b[43mcolumns\u001b[49m\u001b[38;5;241;43m.\u001b[39;49m\u001b[43mget_loc\u001b[49m\u001b[43m(\u001b[49m\u001b[43mkey\u001b[49m\u001b[43m)\u001b[49m\n\u001b[1;32m   3894\u001b[0m \u001b[38;5;28;01mif\u001b[39;00m is_integer(indexer):\n\u001b[1;32m   3895\u001b[0m     indexer \u001b[38;5;241m=\u001b[39m [indexer]\n",
      "File \u001b[0;32m~/anaconda3/lib/python3.10/site-packages/pandas/core/indexes/base.py:3798\u001b[0m, in \u001b[0;36mIndex.get_loc\u001b[0;34m(self, key)\u001b[0m\n\u001b[1;32m   3793\u001b[0m     \u001b[38;5;28;01mif\u001b[39;00m \u001b[38;5;28misinstance\u001b[39m(casted_key, \u001b[38;5;28mslice\u001b[39m) \u001b[38;5;129;01mor\u001b[39;00m (\n\u001b[1;32m   3794\u001b[0m         \u001b[38;5;28misinstance\u001b[39m(casted_key, abc\u001b[38;5;241m.\u001b[39mIterable)\n\u001b[1;32m   3795\u001b[0m         \u001b[38;5;129;01mand\u001b[39;00m \u001b[38;5;28many\u001b[39m(\u001b[38;5;28misinstance\u001b[39m(x, \u001b[38;5;28mslice\u001b[39m) \u001b[38;5;28;01mfor\u001b[39;00m x \u001b[38;5;129;01min\u001b[39;00m casted_key)\n\u001b[1;32m   3796\u001b[0m     ):\n\u001b[1;32m   3797\u001b[0m         \u001b[38;5;28;01mraise\u001b[39;00m InvalidIndexError(key)\n\u001b[0;32m-> 3798\u001b[0m     \u001b[38;5;28;01mraise\u001b[39;00m \u001b[38;5;167;01mKeyError\u001b[39;00m(key) \u001b[38;5;28;01mfrom\u001b[39;00m \u001b[38;5;21;01merr\u001b[39;00m\n\u001b[1;32m   3799\u001b[0m \u001b[38;5;28;01mexcept\u001b[39;00m \u001b[38;5;167;01mTypeError\u001b[39;00m:\n\u001b[1;32m   3800\u001b[0m     \u001b[38;5;66;03m# If we have a listlike key, _check_indexing_error will raise\u001b[39;00m\n\u001b[1;32m   3801\u001b[0m     \u001b[38;5;66;03m#  InvalidIndexError. Otherwise we fall through and re-raise\u001b[39;00m\n\u001b[1;32m   3802\u001b[0m     \u001b[38;5;66;03m#  the TypeError.\u001b[39;00m\n\u001b[1;32m   3803\u001b[0m     \u001b[38;5;28mself\u001b[39m\u001b[38;5;241m.\u001b[39m_check_indexing_error(key)\n",
      "\u001b[0;31mKeyError\u001b[0m: 'range.zref'"
     ]
    }
   ],
   "source": [
    "tim = data['tick']/1000\n",
    "# tim = tim - tim[0]\n",
    "# ind = np.where(tim > 150)\n",
    "# print(str(tim))\n",
    "plt.figure()\n",
    "# plt.subplot(2,1,1)\n",
    "# plt.plot(tim, data['dvio_data.velStdDevx'],linewidth=3)\n",
    "# plt.plot(tim, data['dvio_data.velStdDevy'],linewidth=3)\n",
    "# plt.plot(tim, data['dvio_data.velStdDevz'],linewidth=3)\n",
    "# plt.plot(tim, data['state_machine.ExtKalman'],linewidth=3)\n",
    "# plt.plot(tim, data['kalman.SensorConfig'],linewidth=3)\n",
    "# plt.plot(tim, data['kalman_states.useVel'],linewidth=3)\n",
    "\n",
    "# plt.plot(tim, data['stateEstimate.vx'],linewidth=3)\n",
    "# plt.plot(tim, data['kalman.statePX'],linewidth=3)\n",
    "# plt.plot(tim, data['range.valid'],linewidth=3)\n",
    "plt.plot(tim, data['range.zref'],linewidth=3)\n",
    "# plt.plot(tim, data['range.ztrans'],linewidth=3)\n",
    "# plt.plot(tim, data['range.zmeas'],linewidth=3)\n",
    "# plt.plot(tim, data['range.vzTof'],linewidth=3)\n",
    "# plt.plot(tim, data['range.vzKal'],linewidth=3)\n",
    "# plt.plot(tim, data['stateEstimate.z'],linewidth=3)\n",
    "# plt.plot(tim, data['posCtl.targetZ']*100,linewidth=3)\n",
    "\n",
    "plt.legend(['zref','ztrans','zmeas','vzTof','vzKal','stateEstimate.z'])\n",
    "# plt.plot(tim, data['stateEstimate.z'],linewidth=3)\n",
    "# plt.plot(tim, data['dvio_data.stdFacZ'],linewidth=3)\n",
    "\n",
    "\n",
    "# plt.plot(tim[1:], np.abs(np.diff(data['kalman_pred.tof_innov'])>0))\n",
    "# plt.plot(tim[ind], data['kalman.stateY'][ind],linewidth=3)\n",
    "# plt.plot(tim[ind], data['kalman.stateY_f'][ind],linewidth=3) #stateEstimate.z\n",
    "# plt.plot(data['kalman.stateX'][ind], data['kalman.stateY'][ind],linewidth=3) #stateEstimate.z\n",
    "# plt.plot(data['kalman.stateX_f'][ind], data['kalman.stateY_f'][ind],linewidth=3) #stateEstimate.z\n",
    "plt.xlabel('Time [s]')\n",
    "plt.ylabel('Position [m]')\n",
    "plt.grid(True)\n",
    "\n",
    "# plt.subplot(2,1,2)\n",
    "# plt.plot(tim, data['motor.m1'],linewidth=3)\n",
    "# plt.xlabel('Time [s]')\n",
    "# plt.ylabel('Motor [PWM]')\n",
    "# plt.grid(True)\n",
    "plt.show()"
   ]
  },
  {
   "cell_type": "code",
   "execution_count": 5,
   "metadata": {},
   "outputs": [
    {
     "ename": "ModuleNotFoundError",
     "evalue": "No module named 'scipy'",
     "output_type": "error",
     "traceback": [
      "\u001b[0;31m---------------------------------------------------------------------------\u001b[0m",
      "\u001b[0;31mModuleNotFoundError\u001b[0m                       Traceback (most recent call last)",
      "Cell \u001b[0;32mIn[5], line 2\u001b[0m\n\u001b[1;32m      1\u001b[0m \u001b[38;5;28;01mimport\u001b[39;00m \u001b[38;5;21;01mnumpy\u001b[39;00m \u001b[38;5;28;01mas\u001b[39;00m \u001b[38;5;21;01mnp\u001b[39;00m\n\u001b[0;32m----> 2\u001b[0m \u001b[38;5;28;01mfrom\u001b[39;00m \u001b[38;5;21;01mscipy\u001b[39;00m\u001b[38;5;21;01m.\u001b[39;00m\u001b[38;5;21;01msignal\u001b[39;00m \u001b[38;5;28;01mimport\u001b[39;00m hann, fftconvolve\n\u001b[1;32m      3\u001b[0m \u001b[38;5;28;01mfrom\u001b[39;00m \u001b[38;5;21;01mscipy\u001b[39;00m\u001b[38;5;21;01m.\u001b[39;00m\u001b[38;5;21;01mfftpack\u001b[39;00m \u001b[38;5;28;01mimport\u001b[39;00m fft, ifft\n\u001b[1;32m      5\u001b[0m \u001b[38;5;28;01mdef\u001b[39;00m \u001b[38;5;21mPTstepcalc\u001b[39m(SP, GY, lograte, Ycorrection, smoothFactor):\n",
      "\u001b[0;31mModuleNotFoundError\u001b[0m: No module named 'scipy'"
     ]
    }
   ],
   "source": [
    "import numpy as np\n",
    "from scipy.signal import hann, fftconvolve\n",
    "from scipy.fftpack import fft, ifft\n",
    "\n",
    "def PTstepcalc(SP, GY, lograte, Ycorrection, smoothFactor):\n",
    "    \"\"\"\n",
    "    This function deconvolves the step response function using\n",
    "    SP = set point (input), GY = filtered gyro (output)\n",
    "    returns matrix/stack of estimated stepresponse functions, time [t] in ms\n",
    "    \"\"\"\n",
    "    # \"THE BEER-WARE LICENSE\" (Revision 42):\n",
    "    # <brian.white@queensu.ca> wrote this file. As long as you retain this notice you\n",
    "    # can do whatever you want with this stuff. If we meet some day, and you think\n",
    "    # this stuff is worth it, you can buy me a beer in return. -Brian White\n",
    "\n",
    "    from scipy.signal import savgol_filter\n",
    "    smoothVals = [1, 20, 40, 60]\n",
    "    GY = savgol_filter(GY, smoothVals[smoothFactor], 3)  # 'lowess' equivalent in python\n",
    "\n",
    "    minInput = 20\n",
    "    segment_length = (lograte*2000)  # 2 sec segments\n",
    "    wnd = (lograte*1000) * .5  # 500ms step response function, length will depend on lograte  \n",
    "    StepRespDuration_ms = 500  # max dur of step resp in ms for plotting\n",
    "    t = np.arange(0, StepRespDuration_ms + 1/lograte, 1/lograte)  # time in ms \n",
    "\n",
    "    fileDurSec = len(SP) / (lograte*1000)\n",
    "    subsampleFactor = 1\n",
    "    if fileDurSec <= 20:\n",
    "        subsampleFactor = 10\n",
    "    elif 20 < fileDurSec <= 60:\n",
    "        subsampleFactor = 7\n",
    "    elif fileDurSec > 60:\n",
    "        subsampleFactor = 3\n",
    "\n",
    "    segment_vector = np.arange(0, len(SP), round(segment_length/subsampleFactor))\n",
    "    NSegs = np.max(np.where((segment_vector+segment_length) < segment_vector[-1]))\n",
    "    if NSegs > 0:\n",
    "        SPseg = []\n",
    "        GYseg = []\n",
    "        j = 0\n",
    "        for i in range(NSegs):\n",
    "            if np.max(np.abs(SP[segment_vector[i]:segment_vector[i]+segment_length])) >= minInput:\n",
    "                j += 1\n",
    "                SPseg.append(SP[segment_vector[i]:segment_vector[i]+segment_length])\n",
    "                GYseg.append(GY[segment_vector[i]:segment_vector[i]+segment_length])\n",
    "\n",
    "        padLength = 100  # 2^nextpow2(length(SPseg[i,:]))\n",
    "        j = 0\n",
    "        if SPseg:\n",
    "            for i in range(len(SPseg)):\n",
    "                a = GYseg[i] * hann(len(GYseg[i]))\n",
    "                b = SPseg[i] * hann(len(SPseg[i]))\n",
    "                a = fft(np.concatenate([np.zeros(padLength), a, np.zeros(padLength)]))\n",
    "                b = fft(np.concatenate([np.zeros(padLength), b, np.zeros(padLength)]))\n",
    "                G = a / len(a)\n",
    "                H = b / len(b)\n",
    "                Hcon = np.conj(H)\n",
    "\n",
    "                imp = np.real(ifft((G * Hcon) / (H * Hcon + 0.0001)))  # impulse response function\n",
    "                resptmp = np.cumsum(imp)  # integrate impulse resp function \n",
    "\n",
    "                steadyStateWindow = np.where((t > 200) & (t < StepRespDuration_ms))\n",
    "                steadyStateResp = resptmp[steadyStateWindow]\n",
    "                if Ycorrection:\n",
    "                    if np.nanmean(steadyStateResp) < 1 or np.nanmean(steadyStateResp) > 1:\n",
    "                        yoffset = 1 - np.nanmean(steadyStateResp)\n",
    "                        resptmp = resptmp * (yoffset+1)\n",
    "                    steadyStateResp = resptmp[steadyStateWindow]\n",
    "\n",
    "                if np.min(steadyStateResp) > 0.5 and np.max(steadyStateResp) < 3:  # Quality control     \n",
    "                    j += 1\n",
    "                    stepresponse = resptmp[:1+wnd]\n",
    "    return stepresponse, t\n"
   ]
  }
 ],
 "metadata": {
  "kernelspec": {
   "display_name": "base",
   "language": "python",
   "name": "python3"
  },
  "language_info": {
   "codemirror_mode": {
    "name": "ipython",
    "version": 3
   },
   "file_extension": ".py",
   "mimetype": "text/x-python",
   "name": "python",
   "nbconvert_exporter": "python",
   "pygments_lexer": "ipython3",
   "version": "3.10.13"
  },
  "orig_nbformat": 4,
  "vscode": {
   "interpreter": {
    "hash": "8a8ae345cda9680c5e42f4ee3805fcd09fcee8a9e6805c5decabcb001b740ee9"
   }
  }
 },
 "nbformat": 4,
 "nbformat_minor": 2
}
